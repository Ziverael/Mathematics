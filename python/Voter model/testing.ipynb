{
 "cells": [
  {
   "cell_type": "code",
   "execution_count": 1,
   "metadata": {},
   "outputs": [],
   "source": [
    "import numpy as np\n",
    "from numba import jit"
   ]
  },
  {
   "cell_type": "code",
   "execution_count": 2,
   "metadata": {},
   "outputs": [],
   "source": [
    "jit(nopython = True)\n",
    "def update(s : np.ndarray) -> None:\n",
    "    \"\"\"\n",
    "    Update phase space. This is 1 Monte Carlo step for voter model simulation.\\n\n",
    "    Assume that input is correct.\\n\n",
    "    Arguments\n",
    "    ---------\n",
    "    s   [np.ndarray] one-dimensional numpy array of boolean values\\n\n",
    "    Return\n",
    "    ---------\n",
    "    None\n",
    "\n",
    "    \"\"\"\n",
    "    n = s.shape[0]\n",
    "    k = np.random.randint(0, n, n)\n",
    "    for i in k:\n",
    "        neigh = (\n",
    "            s[(i - 1) % n],\n",
    "            s[(i + 1) % n]\n",
    "            )\n",
    "        s[i] = np.random.choice(neigh)\n"
   ]
  },
  {
   "cell_type": "code",
   "execution_count": 10,
   "metadata": {},
   "outputs": [],
   "source": [
    "s = np.random.choice((False,True),100)"
   ]
  },
  {
   "cell_type": "code",
   "execution_count": 15,
   "metadata": {},
   "outputs": [],
   "source": [
    "from random import random"
   ]
  },
  {
   "cell_type": "code",
   "execution_count": 16,
   "metadata": {},
   "outputs": [],
   "source": [
    "jit(nopython = True)\n",
    "def updatev2(s : np.ndarray) -> None:\n",
    "    \"\"\"\n",
    "    Update phase space. This is 1 Monte Carlo step for voter model simulation.\\n\n",
    "    Assume that input is correct.\\n\n",
    "    Arguments\n",
    "    ---------\n",
    "    s   [np.ndarray] one-dimensional numpy array of boolean values\\n\n",
    "    Return\n",
    "    ---------\n",
    "    None\n",
    "\n",
    "    \"\"\"\n",
    "    n = s.shape[0]\n",
    "    k = np.random.randint(0, n, n)\n",
    "    for i in k:\n",
    "        neigh = (\n",
    "            s[(i - 1) % n],\n",
    "            s[(i + 1) % n]\n",
    "            )\n",
    "        if random() <=0.5:\n",
    "            s[i] = neigh[0]\n",
    "        else:\n",
    "            s[i] = neigh[1]\n"
   ]
  },
  {
   "cell_type": "code",
   "execution_count": 17,
   "metadata": {},
   "outputs": [
    {
     "name": "stdout",
     "output_type": "stream",
     "text": [
      "131 µs ± 8.37 µs per loop (mean ± std. dev. of 7 runs, 10,000 loops each)\n"
     ]
    }
   ],
   "source": [
    "%%timeit\n",
    "updatev2(s)"
   ]
  },
  {
   "cell_type": "code",
   "execution_count": null,
   "metadata": {},
   "outputs": [],
   "source": []
  },
  {
   "cell_type": "code",
   "execution_count": 11,
   "metadata": {},
   "outputs": [
    {
     "name": "stdout",
     "output_type": "stream",
     "text": [
      "1.44 ms ± 70.4 µs per loop (mean ± std. dev. of 7 runs, 1,000 loops each)\n"
     ]
    }
   ],
   "source": [
    "%%timeit\n",
    "update(s)"
   ]
  },
  {
   "cell_type": "code",
   "execution_count": 3,
   "metadata": {},
   "outputs": [],
   "source": [
    "@jit(nopython = True)\n",
    "def simulation(update, n : int, yes : int):\n",
    "    \"\"\"\n",
    "    Simulate Voter Mode with Monte Carlo method.\\n\n",
    "    Assume that input is correct.\\n\n",
    "    Arguments\n",
    "    ---------\n",
    "    n   [int]   number of agents\\n\n",
    "    yes [int]   number of agents which agree with thesis at the beginning of simulation\\n\n",
    "    update    [function]  function for a phase space update\\n\n",
    "    Return\n",
    "    ----------\n",
    "    steps   [int]   number of steps by the consensus time\n",
    "    \"\"\"\n",
    "    agents = np.zeros(n)\n",
    "    yess = np.random.permutation(n)[:yes] #Select indices of yes\n",
    "    agents[yess] = 1 # Set beggining opinion to group of agents\n",
    "\n",
    "    steps = 0\n",
    "\n",
    "    while sum(agents) not in (0, n): #loop keep going as long as there is not consensus\n",
    "        update(agents)\n",
    "        steps += 1\n",
    "\n",
    "    return steps\n"
   ]
  },
  {
   "cell_type": "code",
   "execution_count": 5,
   "metadata": {},
   "outputs": [],
   "source": [
    "N = 20\n",
    "yess = 5"
   ]
  },
  {
   "cell_type": "code",
   "execution_count": 7,
   "metadata": {},
   "outputs": [
    {
     "ename": "TypingError",
     "evalue": "Failed in nopython mode pipeline (step: nopython frontend)\n\u001b[1m\u001b[1m\u001b[1mInvalid use of int64 with parameters (array(float64, 1d, C))\nNo type info available for int64 as a callable.\u001b[0m\n\u001b[0m\u001b[1mDuring: resolving callee type: int64\u001b[0m\n\u001b[0m\u001b[1mDuring: typing of call at /tmp/ipykernel_17378/2636282576.py (22)\n\u001b[0m\n\u001b[1m\nFile \"../../../../../../tmp/ipykernel_17378/2636282576.py\", line 22:\u001b[0m\n\u001b[1m<source missing, REPL/exec in use?>\u001b[0m\n",
     "output_type": "error",
     "traceback": [
      "\u001b[0;31m---------------------------------------------------------------------------\u001b[0m",
      "\u001b[0;31mTypingError\u001b[0m                               Traceback (most recent call last)",
      "\u001b[1;32m/home/ziverael/Dokumenty/Math/python/Voter model/testing.ipynb Cell 5'\u001b[0m in \u001b[0;36m<cell line: 1>\u001b[0;34m()\u001b[0m\n\u001b[0;32m----> <a href='vscode-notebook-cell:/home/ziverael/Dokumenty/Math/python/Voter%20model/testing.ipynb#ch0000003?line=0'>1</a>\u001b[0m simulation(N, N, yess)\n",
      "File \u001b[0;32m~/.local/lib/python3.8/site-packages/numba/core/dispatcher.py:468\u001b[0m, in \u001b[0;36m_DispatcherBase._compile_for_args\u001b[0;34m(self, *args, **kws)\u001b[0m\n\u001b[1;32m    <a href='file:///home/ziverael/.local/lib/python3.8/site-packages/numba/core/dispatcher.py?line=463'>464</a>\u001b[0m         msg \u001b[39m=\u001b[39m (\u001b[39mf\u001b[39m\u001b[39m\"\u001b[39m\u001b[39m{\u001b[39;00m\u001b[39mstr\u001b[39m(e)\u001b[39m.\u001b[39mrstrip()\u001b[39m}\u001b[39;00m\u001b[39m \u001b[39m\u001b[39m\\n\u001b[39;00m\u001b[39m\\n\u001b[39;00m\u001b[39mThis error may have been caused \u001b[39m\u001b[39m\"\u001b[39m\n\u001b[1;32m    <a href='file:///home/ziverael/.local/lib/python3.8/site-packages/numba/core/dispatcher.py?line=464'>465</a>\u001b[0m                \u001b[39mf\u001b[39m\u001b[39m\"\u001b[39m\u001b[39mby the following argument(s):\u001b[39m\u001b[39m\\n\u001b[39;00m\u001b[39m{\u001b[39;00margs_str\u001b[39m}\u001b[39;00m\u001b[39m\\n\u001b[39;00m\u001b[39m\"\u001b[39m)\n\u001b[1;32m    <a href='file:///home/ziverael/.local/lib/python3.8/site-packages/numba/core/dispatcher.py?line=465'>466</a>\u001b[0m         e\u001b[39m.\u001b[39mpatch_message(msg)\n\u001b[0;32m--> <a href='file:///home/ziverael/.local/lib/python3.8/site-packages/numba/core/dispatcher.py?line=467'>468</a>\u001b[0m     error_rewrite(e, \u001b[39m'\u001b[39;49m\u001b[39mtyping\u001b[39;49m\u001b[39m'\u001b[39;49m)\n\u001b[1;32m    <a href='file:///home/ziverael/.local/lib/python3.8/site-packages/numba/core/dispatcher.py?line=468'>469</a>\u001b[0m \u001b[39mexcept\u001b[39;00m errors\u001b[39m.\u001b[39mUnsupportedError \u001b[39mas\u001b[39;00m e:\n\u001b[1;32m    <a href='file:///home/ziverael/.local/lib/python3.8/site-packages/numba/core/dispatcher.py?line=469'>470</a>\u001b[0m     \u001b[39m# Something unsupported is present in the user code, add help info\u001b[39;00m\n\u001b[1;32m    <a href='file:///home/ziverael/.local/lib/python3.8/site-packages/numba/core/dispatcher.py?line=470'>471</a>\u001b[0m     error_rewrite(e, \u001b[39m'\u001b[39m\u001b[39munsupported_error\u001b[39m\u001b[39m'\u001b[39m)\n",
      "File \u001b[0;32m~/.local/lib/python3.8/site-packages/numba/core/dispatcher.py:409\u001b[0m, in \u001b[0;36m_DispatcherBase._compile_for_args.<locals>.error_rewrite\u001b[0;34m(e, issue_type)\u001b[0m\n\u001b[1;32m    <a href='file:///home/ziverael/.local/lib/python3.8/site-packages/numba/core/dispatcher.py?line=406'>407</a>\u001b[0m     \u001b[39mraise\u001b[39;00m e\n\u001b[1;32m    <a href='file:///home/ziverael/.local/lib/python3.8/site-packages/numba/core/dispatcher.py?line=407'>408</a>\u001b[0m \u001b[39melse\u001b[39;00m:\n\u001b[0;32m--> <a href='file:///home/ziverael/.local/lib/python3.8/site-packages/numba/core/dispatcher.py?line=408'>409</a>\u001b[0m     \u001b[39mraise\u001b[39;00m e\u001b[39m.\u001b[39mwith_traceback(\u001b[39mNone\u001b[39;00m)\n",
      "\u001b[0;31mTypingError\u001b[0m: Failed in nopython mode pipeline (step: nopython frontend)\n\u001b[1m\u001b[1m\u001b[1mInvalid use of int64 with parameters (array(float64, 1d, C))\nNo type info available for int64 as a callable.\u001b[0m\n\u001b[0m\u001b[1mDuring: resolving callee type: int64\u001b[0m\n\u001b[0m\u001b[1mDuring: typing of call at /tmp/ipykernel_17378/2636282576.py (22)\n\u001b[0m\n\u001b[1m\nFile \"../../../../../../tmp/ipykernel_17378/2636282576.py\", line 22:\u001b[0m\n\u001b[1m<source missing, REPL/exec in use?>\u001b[0m\n"
     ]
    }
   ],
   "source": [
    "simulation(N, N, yess)"
   ]
  },
  {
   "cell_type": "code",
   "execution_count": null,
   "metadata": {},
   "outputs": [],
   "source": []
  }
 ],
 "metadata": {
  "interpreter": {
   "hash": "916dbcbb3f70747c44a77c7bcd40155683ae19c65e1c03b4aa3499c5328201f1"
  },
  "kernelspec": {
   "display_name": "Python 3.8.10 64-bit",
   "language": "python",
   "name": "python3"
  },
  "language_info": {
   "codemirror_mode": {
    "name": "ipython",
    "version": 3
   },
   "file_extension": ".py",
   "mimetype": "text/x-python",
   "name": "python",
   "nbconvert_exporter": "python",
   "pygments_lexer": "ipython3",
   "version": "3.8.10"
  },
  "orig_nbformat": 4
 },
 "nbformat": 4,
 "nbformat_minor": 2
}
